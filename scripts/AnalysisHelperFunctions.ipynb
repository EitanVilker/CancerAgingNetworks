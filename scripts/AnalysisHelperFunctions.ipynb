{
  "nbformat": 4,
  "nbformat_minor": 0,
  "metadata": {
    "colab": {
      "provenance": []
    },
    "kernelspec": {
      "name": "python3",
      "display_name": "Python 3"
    },
    "language_info": {
      "name": "python"
    }
  },
  "cells": [
    {
      "cell_type": "markdown",
      "source": [
        "### File for helper functions to be used by other scripts actually running the models\n",
        "### Author: Eitan Vilker"
      ],
      "metadata": {
        "id": "kFERqdJP4S7m"
      }
    },
    {
      "cell_type": "code",
      "source": [
        "import pandas as pd"
      ],
      "metadata": {
        "id": "np-zabdtA-zc"
      },
      "execution_count": null,
      "outputs": []
    },
    {
      "cell_type": "code",
      "execution_count": null,
      "metadata": {
        "id": "szyshGaR4IXQ"
      },
      "outputs": [],
      "source": [
        "# OUTPUTS OF FBA: Display all nonzero fluxes\n",
        "def makeReactionDataFrame(reactions):\n",
        "  reactionIDList = []\n",
        "  reactionNameList = []\n",
        "  fluxList = []\n",
        "  metaboliteIDListList = []\n",
        "  metaboliteNameListList = []\n",
        "  geneRuleList = []\n",
        "  geneNameList = []\n",
        "  for reaction in reactions:\n",
        "      reactionIDList.append(reaction.id)\n",
        "      reactionNameList.append(reaction.name)\n",
        "      fluxList.append(reaction.flux)\n",
        "      geneRule = reaction.gene_reaction_rule\n",
        "      if geneRule == \"\":\n",
        "        geneRuleList.append(\"N/A\")\n",
        "      else:\n",
        "        geneRuleList.append(geneRule)\n",
        "      geneName = reaction.gene_name_reaction_rule\n",
        "      if geneName == \"\":\n",
        "        geneNameList.append(\"N/A\")\n",
        "      else:\n",
        "        geneNameList.append(geneName)\n",
        "      metaboliteIDList = []\n",
        "      metaboliteNameList = []\n",
        "      for metabolite in reaction.metabolites:\n",
        "        metaboliteIDList.append(metabolite.id)\n",
        "        metaboliteNameList.append(metabolite.name)\n",
        "      metaboliteIDListList.append(\", \".join(metaboliteIDList))\n",
        "      metaboliteNameListList.append(\", \".join(metaboliteNameList))\n",
        "  return pd.DataFrame(data={\"ReactionID\": reactionIDList, \"ReactionName\": reactionNameList, \"GeneRule\": geneRuleList, \"GeneName\": geneNameList, \"MetaboliteIDs\": metaboliteIDListList, \"MetaboliteNames\": metaboliteNameListList, \"Flux\": fluxList})\n",
        "\n",
        "makeReactionDataFrame(model.reactions)"
      ]
    },
    {
      "cell_type": "code",
      "source": [
        "# Make Pandas df with all the details for the metabolites of a model (that correspond to reactions)\n",
        "def makeMetabolitesDataFrame(reactions):\n",
        "  reactionIDList = []\n",
        "  reactionNameList = []\n",
        "  fluxList = []\n",
        "  metaboliteIDList = []\n",
        "  metaboliteNameList = []\n",
        "  for reaction in reactions:\n",
        "    reactionID = reaction.id\n",
        "    reactionName = reaction.name\n",
        "    reactionFlux = reaction.flux\n",
        "    for metabolite in reaction.metabolites:\n",
        "      metaboliteIDList.append(metabolite.id)\n",
        "      metaboliteNameList.append(metabolite.name)\n",
        "      reactionIDList.append(reactionID)\n",
        "      reactionNameList.append(reactionName)\n",
        "      fluxList.append(reactionFlux)\n",
        "\n",
        "  return pd.DataFrame(data={\"MetaboliteID\": metaboliteIDList, \"MetaboliteName\": metaboliteNameList, \"ReactionID\": reactionIDList, \"ReactionName\": reactionNameList, \"Flux\": fluxList})\n",
        "\n",
        "makeMetabolitesDataFrame(model.reactions)"
      ],
      "metadata": {
        "id": "BAxzva0NBE9J"
      },
      "execution_count": null,
      "outputs": []
    },
    {
      "cell_type": "code",
      "source": [
        "def getDefaultReactionBounds(reactions, inputLowerBound=-1):\n",
        "  for reaction in reactions:\n",
        "    if reaction.id.startswith(\"EX_\"):\n",
        "      reaction.lower_bound = inputLowerBound\n",
        "\n",
        "  reactions.get_by_id(\"EX_o2_e\").lower_bound = -10\n",
        "  reactions.get_by_id(\"EX_nh4_e\").lower_bound = -10\n",
        "  reactions.get_by_id(\"EX_glc__D_e\").lower_bound = -10\n",
        "  reactions.get_by_id(\"ATPM\").lower_bound = 10\n",
        "  reactions.get_by_id(\"ATPM\").upper_bound = 10\n",
        "  return reactions"
      ],
      "metadata": {
        "id": "KidljwafHKMs"
      },
      "execution_count": null,
      "outputs": []
    }
  ]
}